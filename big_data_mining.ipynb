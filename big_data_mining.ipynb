{
 "cells": [
  {
   "cell_type": "code",
   "execution_count": 1,
   "metadata": {},
   "outputs": [],
   "source": [
    "from pyspark.sql import SparkSession\n",
    "from pyspark.ml import Pipeline\n",
    "from pyspark.ml.classification import DecisionTreeClassifier\n",
    "from pyspark.ml.feature import StringIndexer, VectorAssembler\n",
    "from pyspark.ml.evaluation import MulticlassClassificationEvaluator\n",
    "from pyspark.sql.functions import col, when, avg, collect_list"
   ]
  },
  {
   "cell_type": "code",
   "execution_count": 2,
   "metadata": {},
   "outputs": [],
   "source": [
    "spark = SparkSession.builder.appName(\"Project\").getOrCreate()"
   ]
  },
  {
   "cell_type": "markdown",
   "metadata": {},
   "source": [
    "CLASSIFICATION"
   ]
  },
  {
   "cell_type": "code",
   "execution_count": 6,
   "metadata": {},
   "outputs": [
    {
     "name": "stdout",
     "output_type": "stream",
     "text": [
      "Decision Tree Accuracy: 0.83\n"
     ]
    }
   ],
   "source": [
    "df = spark.read.csv(r\"file:///Users\\\\49921659768\\\\Desktop\\\\CENG-567-Big Data Mining Application\\\\cardekho_data_classification.csv\", header=True, inferSchema=True)\n",
    "\n",
    "#indexing\n",
    "idx = [StringIndexer(inputCol=column, outputCol=column+\"_index\").fit(df) for column in [\"Car_Name\", \"Fuel_Type\", \"Seller_Type\", \"Transmission\"]]\n",
    "pipeline = Pipeline(stages=idx)\n",
    "df_idx = pipeline.fit(df).transform(df)\n",
    "\n",
    "#Calculating average selling price for threshold.\n",
    "avg_selling_price = round((df.agg(avg(col(\"Selling_Price\"))).collect()[0][0]),1)\n",
    "\n",
    "\n",
    "assembler = VectorAssembler(inputCols=[\"Year\", \"Present_Price\", \"Kms_Driven\", \"Owner\", \n",
    "                   \"Car_Name_index\", \"Fuel_Type_index\", \"Seller_Type_index\", \"Transmission_index\"], outputCol=\"features\")\n",
    "df_assembled = assembler.transform(df_idx)\n",
    "\n",
    "#Label column creation\n",
    "price_threshold = avg_selling_price # In this case, we're assuming that any car with a selling price greater than or equal to 4.7(which is average of selling price column) is considered a \"good deal\" and below 4.7 is \"not a good deal\".\n",
    "kms_threshold = 30000 # I chose kms_driven max value as 30000 for test.\n",
    "year_threshold = 2010\n",
    "\n",
    "df_with_label = df_assembled.withColumn(\"label\",when((col(\"Selling_Price\") >= price_threshold) & \\\n",
    "                                              (col(\"Year\") >= year_threshold) & \\\n",
    "                                              (col(\"Kms_Driven\") <= kms_threshold), 2) \\\n",
    "                                         .when((col(\"Selling_Price\") >= price_threshold) & \\\n",
    "                                              (col(\"Year\") >= year_threshold), 1) \\\n",
    "                                         .when((col(\"Selling_Price\") >= price_threshold), 0).otherwise(3))\n",
    "\n",
    "# Label 0: Cars with selling prices significantly higher than the average, but do not meet additional conditions can still be bought.\n",
    "# Label 1: Cars with selling prices higher than average and manufactured after or in 2010, considered good deals.\n",
    "# Label 2: Cars with selling prices higher than average, manufactured after or in 2010, and with kilometers driven lower than 30000, considered great deals.\n",
    "# Label 3: Cars that do not meet any of the above conditions, considered not recommended to buy.\n",
    "\n",
    "#Split the data\n",
    "(trainingData, testData) = df_with_label.randomSplit([0.8, 0.2], seed=42)\n",
    "\n",
    "#Training the model\n",
    "dt_classifier = DecisionTreeClassifier(labelCol=\"label\", featuresCol=\"features\", maxBins=100)\n",
    "dt_model = dt_classifier.fit(trainingData)\n",
    "\n",
    "#Evaluation of the model\n",
    "dt_predictions = dt_model.transform(testData)\n",
    "\n",
    "evaluator = MulticlassClassificationEvaluator(labelCol=\"label\", predictionCol=\"prediction\", metricName=\"accuracy\")\n",
    "accuracy = evaluator.evaluate(dt_predictions)\n",
    "print(\"Decision Tree Accuracy:\", round(accuracy,2))"
   ]
  },
  {
   "cell_type": "markdown",
   "metadata": {},
   "source": [
    "CLUSTERING"
   ]
  },
  {
   "cell_type": "code",
   "execution_count": 5,
   "metadata": {},
   "outputs": [
    {
     "name": "stdout",
     "output_type": "stream",
     "text": [
      "root\n",
      " |-- Sl_No: integer (nullable = true)\n",
      " |-- Customer Key: integer (nullable = true)\n",
      " |-- Avg_Credit_Limit: integer (nullable = true)\n",
      " |-- Total_Credit_Cards: integer (nullable = true)\n",
      " |-- Total_visits_bank: integer (nullable = true)\n",
      " |-- Total_visits_online: integer (nullable = true)\n",
      " |-- Total_calls_made: integer (nullable = true)\n",
      "\n",
      "660\n"
     ]
    },
    {
     "data": {
      "image/png": "[encoded data removed]",
      "text/plain": [
       "<Figure size 800x600 with 1 Axes>"
      ]
     },
     "metadata": {},
     "output_type": "display_data"
    }
   ],
   "source": [
    "from pyspark.ml.clustering import KMeans\n",
    "import matplotlib.pyplot as plt\n",
    "df2 = spark.read.csv(r\"file:///Users\\\\49921659768\\\\Desktop\\\\CENG-567-Big Data Mining Application\\\\credit_card_customer_data_clustering.csv\", header=True, inferSchema=True)\n",
    "df2.printSchema()\n",
    "print(df2.count())\n",
    "# Assemble features\n",
    "feature_columns = [\"Avg_Credit_Limit\", \"Total_Credit_Cards\", \"Total_visits_bank\", \"Total_visits_online\", \"Total_calls_made\"]\n",
    "assembler = VectorAssembler(inputCols=feature_columns, outputCol=\"features\")\n",
    "data = assembler.transform(df2)\n",
    "\n",
    "# Scale features\n",
    "from pyspark.ml.feature import StandardScaler\n",
    "scaler = StandardScaler(inputCol=\"features\", outputCol=\"scaled_features\")\n",
    "scaler_model = scaler.fit(data)\n",
    "data = scaler_model.transform(data)\n",
    "\n",
    "# Define clusters based on average credit limit ranges\n",
    "data = data.withColumn(\"Cluster\", \n",
    "                       when((data[\"Avg_Credit_Limit\"] < 10000), \"Low\")\\\n",
    "                      .when((data[\"Avg_Credit_Limit\"] >= 10000) & (data[\"Avg_Credit_Limit\"] < 50000), \"Medium\")\\\n",
    "                      .otherwise(\"High\"))\n",
    "\n",
    "# Group by clusters and count the number of customers in each cluster\n",
    "cluster_count = data.groupBy(\"Cluster\").count()\n",
    "\n",
    "#Visualize\n",
    "pd_cluster_count = cluster_count.toPandas()\n",
    "\n",
    "fig, ax = plt.subplots(1, 1, figsize =(8, 6))\n",
    "pd_cluster_count.plot(kind='bar', x='Cluster', y='count', ax=ax, color='skyblue')\n",
    "ax.set_xlabel('Cluster Type')\n",
    "ax.set_ylabel('Number of Customers')\n",
    "ax.set_title('Clustering on Avg Credit Limit')\n",
    "\n",
    "plt.show()"
   ]
  },
  {
   "cell_type": "markdown",
   "metadata": {},
   "source": [
    "ASSOCIATION RULE MINING"
   ]
  },
  {
   "cell_type": "code",
   "execution_count": 7,
   "metadata": {},
   "outputs": [
    {
     "name": "stdout",
     "output_type": "stream",
     "text": [
      "+--------------------+----+\n",
      "|               items|freq|\n",
      "+--------------------+----+\n",
      "|               [Jam]| 142|\n",
      "|  [Keeping It Local]|  63|\n",
      "|      [Scandinavian]| 275|\n",
      "|[Scandinavian, Br...|  62|\n",
      "|           [Cookies]| 515|\n",
      "|      [Cookies, Tea]|  93|\n",
      "|[Cookies, Hot cho...|  57|\n",
      "|    [Cookies, Bread]| 137|\n",
      "|     [Cookies, Cake]|  69|\n",
      "|   [Cookies, Coffee]| 267|\n",
      "|    [Jammie Dodgers]| 125|\n",
      "|[Jammie Dodgers, ...|  63|\n",
      "|             [Juice]| 365|\n",
      "|    [Juice, Cookies]|  58|\n",
      "|        [Juice, Tea]|  68|\n",
      "|      [Juice, Bread]|  70|\n",
      "|       [Juice, Cake]|  67|\n",
      "|     [Juice, Coffee]| 195|\n",
      "|             [Salad]|  99|\n",
      "|     [Salad, Coffee]|  62|\n",
      "+--------------------+----+\n",
      "only showing top 20 rows\n",
      "\n",
      "+-------------------+--------------+--------------------+-------------------+--------------------+\n",
      "|         antecedent|    consequent|          confidence|               lift|             support|\n",
      "+-------------------+--------------+--------------------+-------------------+--------------------+\n",
      "|  [Sandwich, Bread]|      [Coffee]|   0.422360248447205|    0.8828709698659|0.007184363444268357|\n",
      "|           [Tiffin]|      [Coffee]|   0.547945205479452| 1.1453845781499588|0.008452192287374538|\n",
      "|        [Medialuna]|         [Tea]| 0.13162393162393163| 0.9228300094966762|0.008135235076597993|\n",
      "|        [Medialuna]|      [Pastry]| 0.14871794871794872| 1.7271354412458706| 0.00919175911251981|\n",
      "|        [Medialuna]|       [Bread]| 0.27350427350427353| 0.8358792214136097|0.016904384574749076|\n",
      "|        [Medialuna]|      [Coffee]|  0.5692307692307692| 1.1898783636857841| 0.03518225039619651|\n",
      "|[Medialuna, Coffee]|       [Bread]|  0.1921921921921922| 0.5873745880203743|0.006761753829899...|\n",
      "|       [Tea, Bread]|      [Coffee]|  0.2631578947368421| 0.5500860145062302|0.007395668251452721|\n",
      "|      [Cake, Bread]|      [Coffee]|  0.4298642533936652| 0.8985567929264666|0.010036978341257264|\n",
      "|          [Brownie]|         [Tea]| 0.16886543535620052| 1.1839343301084726|0.006761753829899...|\n",
      "|          [Brownie]|       [Bread]|  0.2691292875989446| 0.8225084621001004|0.010776545166402536|\n",
      "|          [Brownie]|      [Coffee]| 0.49076517150395776|  1.025859617554099|  0.0196513470681458|\n",
      "|       [Farm House]|      [Coffee]| 0.16981132075471697|0.35496116407760514|0.006656101426307449|\n",
      "|    [Pastry, Bread]|      [Coffee]| 0.38405797101449274|  0.802806690735904|0.011199154780771263|\n",
      "|            [Bread]|[Scandinavian]| 0.02001937358734259|  0.689030440015264|0.006550449022715267|\n",
      "|            [Bread]|     [Cookies]| 0.04423635776557959| 0.8130041286431278|0.014474379292128896|\n",
      "|            [Bread]|       [Juice]|0.022602518566354538| 0.5861173650151937|0.007395668251452721|\n",
      "|            [Bread]|         [Tea]| 0.08588957055214724| 0.6021813224267212| 0.02810353935552034|\n",
      "|            [Bread]|    [Sandwich]|0.051985792702615434| 0.7235963646033162|0.017010036978341258|\n",
      "|            [Bread]|       [Scone]|0.027768808524378432| 0.8037668889395776|0.009086106708927628|\n",
      "+-------------------+--------------+--------------------+-------------------+--------------------+\n",
      "only showing top 20 rows\n",
      "\n",
      "+-------------+--------------------+--------------------+\n",
      "|TransactionNo| collect_list(Items)|          prediction|\n",
      "+-------------+--------------------+--------------------+\n",
      "|            1|             [Bread]|[Scandinavian, Co...|\n",
      "|            2|      [Scandinavian]|             [Bread]|\n",
      "|            3|[Hot chocolate, C...|[Tea, Bread, Cake...|\n",
      "|            4|            [Muffin]|[Tea, Bread, Coffee]|\n",
      "|            5|[Coffee, Pastry, ...|[Scandinavian, Co...|\n",
      "|            6|[Medialuna, Muffi...|[Tea, Bread, Coffee]|\n",
      "|            7|[Pastry, Coffee, ...|[Bread, Cake, Coo...|\n",
      "|            8|     [Pastry, Bread]|[Coffee, Scandina...|\n",
      "|            9|     [Muffin, Bread]|[Scandinavian, Co...|\n",
      "|           10|[Medialuna, Scand...|[Tea, Pastry, Bre...|\n",
      "|           11|  [Medialuna, Bread]|[Tea, Pastry, Cof...|\n",
      "|           12|[Tartine, Coffee,...|[Bread, Medialuna...|\n",
      "|           13|[Basket, Bread, C...|[Scandinavian, Co...|\n",
      "|           14|[Bread, Pastry, M...|[Tea, Coffee, Sca...|\n",
      "|           15|[Mineral water, S...|             [Bread]|\n",
      "|           16|[Coffee, Medialun...|[Tea, Pastry, Sca...|\n",
      "|           17|     [Hot chocolate]|[Cookies, Tea, Br...|\n",
      "|           18|        [Farm House]|            [Coffee]|\n",
      "|           19| [Bread, Farm House]|[Coffee, Scandina...|\n",
      "|           20|  [Bread, Medialuna]|[Tea, Pastry, Cof...|\n",
      "+-------------+--------------------+--------------------+\n",
      "only showing top 20 rows\n",
      "\n"
     ]
    }
   ],
   "source": [
    "from pyspark.ml.fpm import FPGrowth\n",
    "df3 = spark.read.csv(r\"file:///Users\\\\49921659768\\\\Desktop\\\\CENG-567-Big Data Mining Application\\\\bakery_arm.csv\", header=True, inferSchema=True)\n",
    "\n",
    "basketdata = df3.dropDuplicates(['TransactionNo', 'Items']).sort('TransactionNo')\n",
    "basketdata = basketdata.groupBy(\"TransactionNo\").agg(collect_list(\"Items\")).sort('TransactionNo')\n",
    "\n",
    "#Frequent Pattern Growth – FP Growth is a method of mining frequent itemsets\n",
    "fpGrowth = FPGrowth(itemsCol=\"collect_list(Items)\", minSupport=0.006, minConfidence=0.006) \n",
    "model = fpGrowth.fit(basketdata)\n",
    "\n",
    "# Display frequent itemsets.\n",
    "model.freqItemsets.show()\n",
    "items = model.freqItemsets\n",
    "# Display generated association rules.\n",
    "model.associationRules.show()\n",
    "rules = model.associationRules\n",
    "# transform examines the input items against all the association rules and summarize the\n",
    "# consequents as prediction\n",
    "model.transform(basketdata).show()\n",
    "transformed = model.transform(basketdata)"
   ]
  },
  {
   "cell_type": "code",
   "execution_count": 8,
   "metadata": {},
   "outputs": [
    {
     "data": {
      "text/html": [
       "<div>\n",
       "<style scoped>\n",
       "    .dataframe tbody tr th:only-of-type {\n",
       "        vertical-align: middle;\n",
       "    }\n",
       "\n",
       "    .dataframe tbody tr th {\n",
       "        vertical-align: top;\n",
       "    }\n",
       "\n",
       "    .dataframe thead th {\n",
       "        text-align: right;\n",
       "    }\n",
       "</style>\n",
       "<table border=\"1\" class=\"dataframe\">\n",
       "  <thead>\n",
       "    <tr style=\"text-align: right;\">\n",
       "      <th></th>\n",
       "      <th>items</th>\n",
       "      <th>freq</th>\n",
       "    </tr>\n",
       "  </thead>\n",
       "  <tbody>\n",
       "    <tr>\n",
       "      <th>0</th>\n",
       "      <td>[Jam]</td>\n",
       "      <td>142</td>\n",
       "    </tr>\n",
       "    <tr>\n",
       "      <th>1</th>\n",
       "      <td>[Keeping It Local]</td>\n",
       "      <td>63</td>\n",
       "    </tr>\n",
       "    <tr>\n",
       "      <th>2</th>\n",
       "      <td>[Scandinavian]</td>\n",
       "      <td>275</td>\n",
       "    </tr>\n",
       "    <tr>\n",
       "      <th>3</th>\n",
       "      <td>[Scandinavian, Bread]</td>\n",
       "      <td>62</td>\n",
       "    </tr>\n",
       "    <tr>\n",
       "      <th>4</th>\n",
       "      <td>[Cookies]</td>\n",
       "      <td>515</td>\n",
       "    </tr>\n",
       "  </tbody>\n",
       "</table>\n",
       "</div>"
      ],
      "text/plain": [
       "                   items  freq\n",
       "0                  [Jam]   142\n",
       "1     [Keeping It Local]    63\n",
       "2         [Scandinavian]   275\n",
       "3  [Scandinavian, Bread]    62\n",
       "4              [Cookies]   515"
      ]
     },
     "execution_count": 8,
     "metadata": {},
     "output_type": "execute_result"
    }
   ],
   "source": [
    "# Convert the Spark DataFrame back to a Pandas DataFrame using Arrow\n",
    "result_pdf = items.select(\"*\").toPandas()\n",
    "result_pdf.head()"
   ]
  },
  {
   "cell_type": "code",
   "execution_count": 10,
   "metadata": {},
   "outputs": [],
   "source": [
    "result_pdf.to_csv('result_pdfItemsFreq.csv')"
   ]
  },
  {
   "cell_type": "code",
   "execution_count": 11,
   "metadata": {},
   "outputs": [
    {
     "data": {
      "text/html": [
       "<div>\n",
       "<style scoped>\n",
       "    .dataframe tbody tr th:only-of-type {\n",
       "        vertical-align: middle;\n",
       "    }\n",
       "\n",
       "    .dataframe tbody tr th {\n",
       "        vertical-align: top;\n",
       "    }\n",
       "\n",
       "    .dataframe thead th {\n",
       "        text-align: right;\n",
       "    }\n",
       "</style>\n",
       "<table border=\"1\" class=\"dataframe\">\n",
       "  <thead>\n",
       "    <tr style=\"text-align: right;\">\n",
       "      <th></th>\n",
       "      <th>antecedent</th>\n",
       "      <th>consequent</th>\n",
       "      <th>confidence</th>\n",
       "      <th>lift</th>\n",
       "      <th>support</th>\n",
       "    </tr>\n",
       "  </thead>\n",
       "  <tbody>\n",
       "    <tr>\n",
       "      <th>0</th>\n",
       "      <td>[Sandwich, Bread]</td>\n",
       "      <td>[Coffee]</td>\n",
       "      <td>0.422360</td>\n",
       "      <td>0.882871</td>\n",
       "      <td>0.007184</td>\n",
       "    </tr>\n",
       "    <tr>\n",
       "      <th>1</th>\n",
       "      <td>[Tiffin]</td>\n",
       "      <td>[Coffee]</td>\n",
       "      <td>0.547945</td>\n",
       "      <td>1.145385</td>\n",
       "      <td>0.008452</td>\n",
       "    </tr>\n",
       "    <tr>\n",
       "      <th>2</th>\n",
       "      <td>[Medialuna]</td>\n",
       "      <td>[Tea]</td>\n",
       "      <td>0.131624</td>\n",
       "      <td>0.922830</td>\n",
       "      <td>0.008135</td>\n",
       "    </tr>\n",
       "    <tr>\n",
       "      <th>3</th>\n",
       "      <td>[Medialuna]</td>\n",
       "      <td>[Pastry]</td>\n",
       "      <td>0.148718</td>\n",
       "      <td>1.727135</td>\n",
       "      <td>0.009192</td>\n",
       "    </tr>\n",
       "    <tr>\n",
       "      <th>4</th>\n",
       "      <td>[Medialuna]</td>\n",
       "      <td>[Bread]</td>\n",
       "      <td>0.273504</td>\n",
       "      <td>0.835879</td>\n",
       "      <td>0.016904</td>\n",
       "    </tr>\n",
       "  </tbody>\n",
       "</table>\n",
       "</div>"
      ],
      "text/plain": [
       "          antecedent consequent  confidence      lift   support\n",
       "0  [Sandwich, Bread]   [Coffee]    0.422360  0.882871  0.007184\n",
       "1           [Tiffin]   [Coffee]    0.547945  1.145385  0.008452\n",
       "2        [Medialuna]      [Tea]    0.131624  0.922830  0.008135\n",
       "3        [Medialuna]   [Pastry]    0.148718  1.727135  0.009192\n",
       "4        [Medialuna]    [Bread]    0.273504  0.835879  0.016904"
      ]
     },
     "execution_count": 11,
     "metadata": {},
     "output_type": "execute_result"
    }
   ],
   "source": [
    "rules_pdf = rules.select(\"*\").toPandas()\n",
    "rules_pdf.head()"
   ]
  },
  {
   "cell_type": "code",
   "execution_count": 12,
   "metadata": {},
   "outputs": [],
   "source": [
    "rules_pdf.to_csv('rules_pdfAnteConseConfLift.csv')"
   ]
  },
  {
   "cell_type": "code",
   "execution_count": 13,
   "metadata": {},
   "outputs": [
    {
     "data": {
      "text/html": [
       "<div>\n",
       "<style scoped>\n",
       "    .dataframe tbody tr th:only-of-type {\n",
       "        vertical-align: middle;\n",
       "    }\n",
       "\n",
       "    .dataframe tbody tr th {\n",
       "        vertical-align: top;\n",
       "    }\n",
       "\n",
       "    .dataframe thead th {\n",
       "        text-align: right;\n",
       "    }\n",
       "</style>\n",
       "<table border=\"1\" class=\"dataframe\">\n",
       "  <thead>\n",
       "    <tr style=\"text-align: right;\">\n",
       "      <th></th>\n",
       "      <th>TransactionNo</th>\n",
       "      <th>collect_list(Items)</th>\n",
       "      <th>prediction</th>\n",
       "    </tr>\n",
       "  </thead>\n",
       "  <tbody>\n",
       "    <tr>\n",
       "      <th>0</th>\n",
       "      <td>1</td>\n",
       "      <td>[Bread]</td>\n",
       "      <td>[Scandinavian, Cookies, Juice, Tea, Sandwich, ...</td>\n",
       "    </tr>\n",
       "    <tr>\n",
       "      <th>1</th>\n",
       "      <td>2</td>\n",
       "      <td>[Scandinavian]</td>\n",
       "      <td>[Bread]</td>\n",
       "    </tr>\n",
       "    <tr>\n",
       "      <th>2</th>\n",
       "      <td>3</td>\n",
       "      <td>[Hot chocolate, Cookies, Jam]</td>\n",
       "      <td>[Tea, Bread, Cake, Coffee, Juice]</td>\n",
       "    </tr>\n",
       "    <tr>\n",
       "      <th>3</th>\n",
       "      <td>4</td>\n",
       "      <td>[Muffin]</td>\n",
       "      <td>[Tea, Bread, Coffee]</td>\n",
       "    </tr>\n",
       "    <tr>\n",
       "      <th>4</th>\n",
       "      <td>5</td>\n",
       "      <td>[Coffee, Pastry, Bread]</td>\n",
       "      <td>[Scandinavian, Cookies, Juice, Tea, Sandwich, ...</td>\n",
       "    </tr>\n",
       "  </tbody>\n",
       "</table>\n",
       "</div>"
      ],
      "text/plain": [
       "   TransactionNo            collect_list(Items)  \\\n",
       "0              1                        [Bread]   \n",
       "1              2                 [Scandinavian]   \n",
       "2              3  [Hot chocolate, Cookies, Jam]   \n",
       "3              4                       [Muffin]   \n",
       "4              5        [Coffee, Pastry, Bread]   \n",
       "\n",
       "                                          prediction  \n",
       "0  [Scandinavian, Cookies, Juice, Tea, Sandwich, ...  \n",
       "1                                            [Bread]  \n",
       "2                  [Tea, Bread, Cake, Coffee, Juice]  \n",
       "3                               [Tea, Bread, Coffee]  \n",
       "4  [Scandinavian, Cookies, Juice, Tea, Sandwich, ...  "
      ]
     },
     "execution_count": 13,
     "metadata": {},
     "output_type": "execute_result"
    }
   ],
   "source": [
    "transformed_pdf = transformed.select(\"*\").toPandas()\n",
    "transformed_pdf.head()"
   ]
  },
  {
   "cell_type": "code",
   "execution_count": 14,
   "metadata": {},
   "outputs": [],
   "source": [
    "transformed_pdf.to_csv('transformed_pdfSalesTransactionIDCollectListPred.csv')"
   ]
  }
 ],
 "metadata": {
  "kernelspec": {
   "display_name": "Python 3",
   "language": "python",
   "name": "python3"
  },
  "language_info": {
   "codemirror_mode": {
    "name": "ipython",
    "version": 3
   },
   "file_extension": ".py",
   "mimetype": "text/x-python",
   "name": "python",
   "nbconvert_exporter": "python",
   "pygments_lexer": "ipython3",
   "version": "3.9.11"
  }
 },
 "nbformat": 4,
 "nbformat_minor": 2
}
